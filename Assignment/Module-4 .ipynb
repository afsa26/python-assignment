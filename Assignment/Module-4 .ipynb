{
 "cells": [
  {
   "cell_type": "markdown",
   "id": "fd4c4271",
   "metadata": {},
   "source": [
    "# Topic: Input-output\n",
    "# Printing on screen,reading data from keyboard,opening and closing console file\n",
    "# Assignment Level Basic"
   ]
  },
  {
   "cell_type": "markdown",
   "id": "cb112e01",
   "metadata": {},
   "source": [
    "# B1.What is File function in python?what is keywords to create and write file"
   ]
  },
  {
   "cell_type": "markdown",
   "id": "01fdde90",
   "metadata": {},
   "source": [
    "### Python has a built-in open() function to open a file.\n",
    "\n",
    "### This function returns a file object, also called a handle, as it is used to read or modify the file accordingly. \n",
    "\n",
    "### We can specify the mode while opening a file."
   ]
  },
  {
   "cell_type": "code",
   "execution_count": 2,
   "id": "c6e1d49f",
   "metadata": {},
   "outputs": [],
   "source": [
    "new_file = open('new_file.txt', 'w')"
   ]
  },
  {
   "cell_type": "code",
   "execution_count": 3,
   "id": "b2d96d17",
   "metadata": {},
   "outputs": [
    {
     "data": {
      "text/plain": [
       "15"
      ]
     },
     "execution_count": 3,
     "metadata": {},
     "output_type": "execute_result"
    }
   ],
   "source": [
    "new_file.write('hi i am sarang.')"
   ]
  },
  {
   "cell_type": "markdown",
   "id": "9585b426",
   "metadata": {},
   "source": [
    "# B2.Write a Python program to read an entire text file"
   ]
  },
  {
   "cell_type": "code",
   "execution_count": 4,
   "id": "512cf03a",
   "metadata": {},
   "outputs": [],
   "source": [
    "my_file = open('new_file.txt', \"r\")"
   ]
  },
  {
   "cell_type": "code",
   "execution_count": 6,
   "id": "7eff5a4f",
   "metadata": {},
   "outputs": [
    {
     "data": {
      "text/plain": [
       "['hi i am vasuli.']"
      ]
     },
     "execution_count": 6,
     "metadata": {},
     "output_type": "execute_result"
    }
   ],
   "source": [
    "my_file.readlines()"
   ]
  },
  {
   "cell_type": "markdown",
   "id": "2da85d26",
   "metadata": {},
   "source": [
    "# B3.Write a Python program to append text to a file and display the text."
   ]
  },
  {
   "cell_type": "code",
   "execution_count": 7,
   "id": "ec6996ec",
   "metadata": {},
   "outputs": [],
   "source": [
    "my_file = open('new_file.txt', \"a+\")"
   ]
  },
  {
   "cell_type": "code",
   "execution_count": 11,
   "id": "85123b8c",
   "metadata": {},
   "outputs": [
    {
     "data": {
      "text/plain": [
       "['hi i am sarang trivedi.']"
      ]
     },
     "execution_count": 11,
     "metadata": {},
     "output_type": "execute_result"
    }
   ],
   "source": [
    "my_file.readlines()"
   ]
  },
  {
   "cell_type": "markdown",
   "id": "34dea0c3",
   "metadata": {},
   "source": [
    "# B4. Write a Python program to read first n lines of a file"
   ]
  },
  {
   "cell_type": "code",
   "execution_count": 12,
   "id": "87a58677",
   "metadata": {},
   "outputs": [],
   "source": [
    "my_file = open('new_file.txt', \"r\")"
   ]
  },
  {
   "cell_type": "code",
   "execution_count": 13,
   "id": "99dac382",
   "metadata": {},
   "outputs": [
    {
     "data": {
      "text/plain": [
       "'hi i am vasuli.\\n'"
      ]
     },
     "execution_count": 13,
     "metadata": {},
     "output_type": "execute_result"
    }
   ],
   "source": [
    "my_file.readline()"
   ]
  },
  {
   "cell_type": "markdown",
   "id": "327aeb3a",
   "metadata": {},
   "source": [
    "# B5. Write a Python program to read last n lines of a file"
   ]
  },
  {
   "cell_type": "code",
   "execution_count": 14,
   "id": "3068bf0c",
   "metadata": {},
   "outputs": [],
   "source": [
    "my_file = open('new_file.txt', \"r\")"
   ]
  },
  {
   "cell_type": "code",
   "execution_count": 17,
   "id": "9f145f70",
   "metadata": {},
   "outputs": [
    {
     "data": {
      "text/plain": [
       "['hi i am sarang trivedi.']"
      ]
     },
     "execution_count": 17,
     "metadata": {},
     "output_type": "execute_result"
    }
   ],
   "source": [
    "my_file.readlines(3)"
   ]
  },
  {
   "cell_type": "markdown",
   "id": "b2b31c15",
   "metadata": {},
   "source": [
    "# Assignment Level Intermediate"
   ]
  },
  {
   "cell_type": "markdown",
   "id": "5dc6e7ab",
   "metadata": {},
   "source": [
    "# i1. Write a Python program to read a file line by line and store it into a list"
   ]
  },
  {
   "cell_type": "code",
   "execution_count": 18,
   "id": "618cf5c4",
   "metadata": {},
   "outputs": [],
   "source": [
    "my_file = open('new_file.txt', \"r\")"
   ]
  },
  {
   "cell_type": "code",
   "execution_count": 26,
   "id": "717310ce",
   "metadata": {},
   "outputs": [
    {
     "data": {
      "text/plain": [
       "['\\n', '\\n', '\\n', 'i am a python devloper.']"
      ]
     },
     "execution_count": 26,
     "metadata": {},
     "output_type": "execute_result"
    }
   ],
   "source": [
    "my_file.readlines()"
   ]
  },
  {
   "cell_type": "code",
   "execution_count": 22,
   "id": "ee3e5ec2",
   "metadata": {},
   "outputs": [],
   "source": []
  },
  {
   "cell_type": "code",
   "execution_count": null,
   "id": "1eb20a9d",
   "metadata": {},
   "outputs": [],
   "source": []
  },
  {
   "cell_type": "markdown",
   "id": "4e682192",
   "metadata": {},
   "source": [
    "# i2.Write a Python program to read a file line by line store it into a variable."
   ]
  },
  {
   "cell_type": "code",
   "execution_count": 38,
   "id": "d447f60d",
   "metadata": {},
   "outputs": [
    {
     "name": "stdout",
     "output_type": "stream",
     "text": [
      "['sarang\\n', 'keyur\\n']\n"
     ]
    }
   ],
   "source": [
    "f=open('new_file.txt','r')\n",
    "store=f.readlines()\n",
    "print(store)"
   ]
  },
  {
   "cell_type": "markdown",
   "id": "8008bdeb",
   "metadata": {},
   "source": [
    "# i3. Write a python program to find the longest words"
   ]
  },
  {
   "cell_type": "code",
   "execution_count": 1,
   "id": "0874641f",
   "metadata": {},
   "outputs": [
    {
     "name": "stdout",
     "output_type": "stream",
     "text": [
      "['devloper.']\n"
     ]
    }
   ],
   "source": [
    "def longest_word(filename):\n",
    "    with open(filename, 'r') as infile:\n",
    "              words = infile.read().split()\n",
    "    max_len = len(max(words, key=len))\n",
    "    return [word for word in words if len(word) == max_len]\n",
    "\n",
    "print(longest_word('new_file.txt'))"
   ]
  },
  {
   "cell_type": "markdown",
   "id": "08cbaac6",
   "metadata": {},
   "source": [
    "# i4.. Write a Python program to count the number of lines in a text file."
   ]
  },
  {
   "cell_type": "code",
   "execution_count": 11,
   "id": "da4ebc4d",
   "metadata": {},
   "outputs": [
    {
     "name": "stdout",
     "output_type": "stream",
     "text": [
      "Enter file name: new_file.txt\n",
      "Number of lines:\n",
      "5\n"
     ]
    }
   ],
   "source": [
    "fname = input(\"Enter file name: \")\n",
    "num_lines = 0\n",
    "with open(fname, 'r') as f:\n",
    "    for line in f:\n",
    "        num_lines += 1\n",
    "print(\"Number of lines:\")\n",
    "print(num_lines)"
   ]
  },
  {
   "cell_type": "markdown",
   "id": "85921e74",
   "metadata": {},
   "source": [
    "# i5. Write a Python program to count the frequency of words in a file"
   ]
  },
  {
   "cell_type": "code",
   "execution_count": 7,
   "id": "f5a3aa58",
   "metadata": {},
   "outputs": [
    {
     "name": "stdout",
     "output_type": "stream",
     "text": [
      "Number of words in the file : Counter({'i': 3, 'am': 3, 'hi': 2, 'vasuli.': 1, 'sarang': 1, 'trivedi.': 1, 'a': 1, 'python': 1, 'devloper.': 1})\n"
     ]
    }
   ],
   "source": [
    "from collections import Counter\n",
    "def word_count(fname):\n",
    "        with open(fname) as f:\n",
    "                return Counter(f.read().split())\n",
    "\n",
    "print(\"Number of words in the file :\",word_count(\"new_file.txt\"))"
   ]
  },
  {
   "cell_type": "markdown",
   "id": "ac523717",
   "metadata": {},
   "source": [
    "# i6.. Write a Python program to write a list to a file."
   ]
  },
  {
   "cell_type": "code",
   "execution_count": 24,
   "id": "92875f2f",
   "metadata": {},
   "outputs": [],
   "source": [
    "MyList = [\"sarang\", \"keyur\"]\n",
    "MyFile = open('new_file.txt','w')\n",
    "\n",
    "for element in MyList:\n",
    "    MyFile.write(element + \"\\n\")\n",
    "MyFile.close()\n",
    "\n"
   ]
  },
  {
   "cell_type": "code",
   "execution_count": null,
   "id": "763befbc",
   "metadata": {},
   "outputs": [],
   "source": []
  },
  {
   "cell_type": "markdown",
   "id": "ebc789ca",
   "metadata": {},
   "source": [
    "# i7. Write a Python program to copy the contents of a file to another file"
   ]
  },
  {
   "cell_type": "code",
   "execution_count": 36,
   "id": "ee11b3ce",
   "metadata": {},
   "outputs": [],
   "source": [
    "a=open('new_file.txt','r')\n",
    "for i in a:\n",
    "    b=open('welcome.txt','w')\n",
    "    b.write(i)\n"
   ]
  },
  {
   "cell_type": "code",
   "execution_count": 37,
   "id": "6bd1b31b",
   "metadata": {},
   "outputs": [
    {
     "data": {
      "text/plain": [
       "'sarang\\n'"
      ]
     },
     "execution_count": 37,
     "metadata": {},
     "output_type": "execute_result"
    }
   ],
   "source": [
    "f=open('welcome.txt','r')\n",
    "f.read()"
   ]
  },
  {
   "cell_type": "markdown",
   "id": "0b643361",
   "metadata": {},
   "source": [
    "# Assignment Level Advance"
   ]
  },
  {
   "cell_type": "markdown",
   "id": "272683d7",
   "metadata": {},
   "source": [
    "# A1.Write a Python program to read a random line from a file."
   ]
  },
  {
   "cell_type": "code",
   "execution_count": 15,
   "id": "e3f16ccc",
   "metadata": {},
   "outputs": [
    {
     "name": "stdout",
     "output_type": "stream",
     "text": [
      "['sarang', 'keyur']\n",
      "None\n"
     ]
    }
   ],
   "source": [
    "import random\n",
    "def random(fname):\n",
    "    lines=open(fname).read().splitlines()\n",
    "    print(lines)\n",
    "    \n",
    "print(random('new_file.txt'))"
   ]
  },
  {
   "cell_type": "markdown",
   "id": "54735ac8",
   "metadata": {},
   "source": [
    "# A2. Write a Python program to assess if a file is closed or not."
   ]
  },
  {
   "cell_type": "code",
   "execution_count": 16,
   "id": "209f02ee",
   "metadata": {},
   "outputs": [],
   "source": [
    "my_file = open('new_file.txt','r')"
   ]
  },
  {
   "cell_type": "code",
   "execution_count": 30,
   "id": "85345656",
   "metadata": {},
   "outputs": [
    {
     "data": {
      "text/plain": [
       "True"
      ]
     },
     "execution_count": 30,
     "metadata": {},
     "output_type": "execute_result"
    }
   ],
   "source": [
    "my_file.readable()"
   ]
  },
  {
   "cell_type": "code",
   "execution_count": 27,
   "id": "da7963bd",
   "metadata": {},
   "outputs": [],
   "source": [
    "my_file = open('new_file.txt', 'r')"
   ]
  },
  {
   "cell_type": "code",
   "execution_count": 29,
   "id": "978ea1bb",
   "metadata": {},
   "outputs": [
    {
     "data": {
      "text/plain": [
       "False"
      ]
     },
     "execution_count": 29,
     "metadata": {},
     "output_type": "execute_result"
    }
   ],
   "source": [
    "my_file.writable()"
   ]
  },
  {
   "cell_type": "markdown",
   "id": "b6ed868f",
   "metadata": {},
   "source": [
    "# A3. Write a Python program to remove newline characters from a file."
   ]
  },
  {
   "cell_type": "code",
   "execution_count": 32,
   "id": "9ac1de29",
   "metadata": {},
   "outputs": [
    {
     "name": "stdout",
     "output_type": "stream",
     "text": [
      "hi i am vasuli\n",
      "\n",
      "hi i am vasuli\n"
     ]
    }
   ],
   "source": [
    "s1='hi i am vasuli\\n'\n",
    "print(s1)\n",
    "print(s1.rstrip())"
   ]
  },
  {
   "cell_type": "markdown",
   "id": "33fd9465",
   "metadata": {},
   "source": [
    "# Topic: Exception Handling Exception,Except clause,Try and finally"
   ]
  },
  {
   "cell_type": "markdown",
   "id": "3b0da00a",
   "metadata": {},
   "source": [
    "# Assignment Level Basic"
   ]
  },
  {
   "cell_type": "markdown",
   "id": "adf3a6c1",
   "metadata": {},
   "source": [
    "# B1:Explain Exception handling?What is an Error in Python?"
   ]
  },
  {
   "cell_type": "markdown",
   "id": "4c5bb111",
   "metadata": {},
   "source": [
    "### In python, exceptions are triggered automatically on errors, and they can be triggered and intercepted by your code.\n",
    "\n",
    "### Python generate an exveption that can be handled, which avoids your program to crash.\n",
    "\n",
    "### Errors are the problems in a program due to which the program will stop the execution.\n",
    "\n",
    "### Two types of Error occurs in python. Syntax errors. Logical errors (Exceptions)\n",
    "\n"
   ]
  },
  {
   "cell_type": "markdown",
   "id": "ff396761",
   "metadata": {},
   "source": [
    "# B2. How many except statements can a try-except block have?\n",
    "# Name Some built-in exception classes:\n"
   ]
  },
  {
   "cell_type": "markdown",
   "id": "26d82b5e",
   "metadata": {},
   "source": [
    "### AssertionError - Raised when assert statement fails.\n",
    "\n",
    "### AttributeError - Raised when attribute assignment or reference fails.\n",
    "\n",
    "### FloatingPointError - Raised when a floating point operation fails.\n",
    "\n",
    "### ImportError - Raised when the imported module is not found\n",
    "\n",
    "### SyntaxError - Raised by parser when syntax error is encountered."
   ]
  },
  {
   "cell_type": "markdown",
   "id": "accfd5be",
   "metadata": {},
   "source": [
    "# B3. When will the else part of try-except-else be executed?"
   ]
  },
  {
   "cell_type": "code",
   "execution_count": 34,
   "id": "ca26d069",
   "metadata": {},
   "outputs": [
    {
     "name": "stdout",
     "output_type": "stream",
     "text": [
      "error\n"
     ]
    }
   ],
   "source": [
    "try:\n",
    "    2+2\n",
    "except Exception as err:\n",
    "    print(err)\n",
    "else:\n",
    "    print('error')"
   ]
  },
  {
   "cell_type": "markdown",
   "id": "e60241ac",
   "metadata": {},
   "source": [
    "# B4. Can one block of except statements handle multiple exception?"
   ]
  },
  {
   "cell_type": "markdown",
   "id": "7e910583",
   "metadata": {},
   "source": [
    "### a Explanation: Each type of exception can be specified directly.\n",
    "\n",
    "### There is no need to put it in a list."
   ]
  },
  {
   "cell_type": "markdown",
   "id": "8e9e258b",
   "metadata": {},
   "source": [
    "# B5.When is the finally block executed?"
   ]
  },
  {
   "cell_type": "markdown",
   "id": "92980f53",
   "metadata": {},
   "source": [
    "### The finally block always executes after normal termination of try block or after try block terminates due to some exception.\n",
    "\n",
    "### finally block is always executed after leaving the try statement.\n",
    "\n",
    "### In case if some exception was not handled by except block, it is re-raised after execution of finally block.\n",
    "\n",
    "### This ensures that the finally block is executed even if an unexpected exception occurs."
   ]
  },
  {
   "cell_type": "markdown",
   "id": "88839f2c",
   "metadata": {},
   "source": [
    "# B6. What happens when „1‟ == 1 is executed?"
   ]
  },
  {
   "cell_type": "code",
   "execution_count": null,
   "id": "df666c14",
   "metadata": {},
   "outputs": [],
   "source": []
  },
  {
   "cell_type": "markdown",
   "id": "feab3ef5",
   "metadata": {},
   "source": [
    "# b7. How Do You Handle Exceptions With Try/Except/Finally In Python?\n",
    "# exaplin with coding snippets"
   ]
  },
  {
   "cell_type": "code",
   "execution_count": 3,
   "id": "1b02a031",
   "metadata": {},
   "outputs": [
    {
     "name": "stdout",
     "output_type": "stream",
     "text": [
      "this is wrong \n"
     ]
    }
   ],
   "source": [
    "try:\n",
    "    2 + 's'\n",
    "except:\n",
    "    print(\"this is wrong \")"
   ]
  },
  {
   "cell_type": "code",
   "execution_count": 13,
   "id": "2fb84894",
   "metadata": {},
   "outputs": [
    {
     "name": "stdout",
     "output_type": "stream",
     "text": [
      "finally block\n"
     ]
    }
   ],
   "source": [
    "try:\n",
    "    2 + 5\n",
    "finally:\n",
    "    print(\"finally block\")"
   ]
  },
  {
   "cell_type": "markdown",
   "id": "9db7f82c",
   "metadata": {},
   "source": [
    "# b8.write python program that user to enter only odd numbers, else will raise an exception."
   ]
  },
  {
   "cell_type": "code",
   "execution_count": 14,
   "id": "e3f76512",
   "metadata": {},
   "outputs": [
    {
     "name": "stdout",
     "output_type": "stream",
     "text": [
      "Enter a number: 4\n",
      "this is a even number\n"
     ]
    }
   ],
   "source": [
    "num = int(input(\"Enter a number: \"))\n",
    "mod = num % 2\n",
    "if mod > 0:\n",
    "    print(\"this is a odd number\")\n",
    "else: \n",
    "    print(\"this is a even number\")"
   ]
  },
  {
   "cell_type": "markdown",
   "id": "d5d8e075",
   "metadata": {},
   "source": [
    "# Assignment Level Intermediate"
   ]
  },
  {
   "cell_type": "markdown",
   "id": "e596938c",
   "metadata": {},
   "source": [
    "# I1.write program for Catching Specific Exceptions in Python"
   ]
  },
  {
   "cell_type": "code",
   "execution_count": 18,
   "id": "5973c8ce",
   "metadata": {},
   "outputs": [
    {
     "name": "stdout",
     "output_type": "stream",
     "text": [
      "enter name: sarang123\n",
      "Your input 'sarang123' took a number but required a name only.\n"
     ]
    }
   ],
   "source": [
    "try:\n",
    "    name = input('enter name: ')\n",
    "    if name.isalpha():\n",
    "        print(f'welcome {name}.')\n",
    "    else:\n",
    "        raise ValueError(f\"Your input '{name}' took a number but required a name only.\")\n",
    "    \n",
    "except ValueError as err:\n",
    "    print(err)"
   ]
  },
  {
   "cell_type": "markdown",
   "id": "699e70ac",
   "metadata": {},
   "source": [
    "# I2.write python program for file operations to makes sure the file is closed even if an exception occurs."
   ]
  },
  {
   "cell_type": "code",
   "execution_count": 24,
   "id": "c815625c",
   "metadata": {},
   "outputs": [],
   "source": [
    "try:\n",
    "    f = open(\"new_file.txt\", 'r')\n",
    "finally:\n",
    "    f.close()"
   ]
  },
  {
   "cell_type": "code",
   "execution_count": null,
   "id": "dfbf6ad0",
   "metadata": {},
   "outputs": [],
   "source": []
  },
  {
   "cell_type": "markdown",
   "id": "e8e1f32f",
   "metadata": {},
   "source": [
    "# I3.Explain Python Errors and Built-in Exceptions with coding snippets"
   ]
  },
  {
   "cell_type": "code",
   "execution_count": null,
   "id": "a5016531",
   "metadata": {},
   "outputs": [],
   "source": []
  },
  {
   "cell_type": "markdown",
   "id": "a9740f76",
   "metadata": {},
   "source": [
    "# Assignment Level Advance"
   ]
  },
  {
   "cell_type": "markdown",
   "id": "4b59b830",
   "metadata": {},
   "source": [
    "# A1Explain .User-Defined Exception in Python"
   ]
  },
  {
   "cell_type": "markdown",
   "id": "fc214e53",
   "metadata": {},
   "source": [
    "### User Defined Exception or custom exception is creating your own exception class and throws that exception using 'throw' keyword.\n",
    "\n",
    "### This can be done by extending the class Exception.\n",
    "\n",
    "### The keyword “throw” is used to create a new Exception and throw it to the catch block."
   ]
  },
  {
   "cell_type": "markdown",
   "id": "45a63bed",
   "metadata": {},
   "source": [
    "# A2 Write a program that will ask the user to enter a number until they guess a stored number correctly."
   ]
  },
  {
   "cell_type": "code",
   "execution_count": 1,
   "id": "ef8e2a88",
   "metadata": {},
   "outputs": [
    {
     "name": "stdout",
     "output_type": "stream",
     "text": [
      "Guess a number between 1 and 10 until you get it right : 5\n",
      "Guess a number between 1 and 10 until you get it right : 2\n",
      "Guess a number between 1 and 10 until you get it right : 3\n",
      "Well guessed!\n"
     ]
    }
   ],
   "source": [
    "import random\n",
    "target_num, guess_num = random.randint(1, 10), 0\n",
    "while target_num != guess_num:\n",
    "    guess_num = int(input('Guess a number between 1 and 10 until you get it right : '))\n",
    "print('Well guessed!')"
   ]
  },
  {
   "cell_type": "markdown",
   "id": "592cd553",
   "metadata": {},
   "source": [
    "# A3.What is Assertions in Python? Write function that converts a temperature from degrees Kelvin to degrees Fahrenheit"
   ]
  },
  {
   "cell_type": "code",
   "execution_count": 2,
   "id": "b84c44ed",
   "metadata": {},
   "outputs": [
    {
     "name": "stdout",
     "output_type": "stream",
     "text": [
      "Enter the temprature in degree.5\n",
      "Fahrenheit is 36.0\n"
     ]
    }
   ],
   "source": [
    "TIC=int(input(\"Enter the temprature in degree.\"))\n",
    "f=TIC*(4/5)+32\n",
    "print('Fahrenheit is',f)"
   ]
  },
  {
   "cell_type": "markdown",
   "id": "fa72d20b",
   "metadata": {},
   "source": [
    "# A4.Write program that except Clause with No Exceptions"
   ]
  },
  {
   "cell_type": "code",
   "execution_count": 3,
   "id": "2d0eb475",
   "metadata": {},
   "outputs": [
    {
     "name": "stdout",
     "output_type": "stream",
     "text": [
      "this is python \n"
     ]
    }
   ],
   "source": [
    "try:\n",
    "    2 + 's'\n",
    "except:\n",
    "    print(\"this is python \")"
   ]
  },
  {
   "cell_type": "markdown",
   "id": "685a1a0e",
   "metadata": {},
   "source": [
    "# A5.What is Argument of an Exception?Explain with coding snippets."
   ]
  },
  {
   "cell_type": "markdown",
   "id": "48e4fec6",
   "metadata": {},
   "source": [
    "###  ArgumentException is thrown when a method is invoked and at least one of the passed arguments does not meet the parameter specification of the called method.\n",
    "\n",
    "### ArgumentNullException whenever null is passed to a method that does not accept it as a valid argument."
   ]
  },
  {
   "cell_type": "code",
   "execution_count": 4,
   "id": "e5636e23",
   "metadata": {},
   "outputs": [
    {
     "ename": "SyntaxError",
     "evalue": "invalid syntax (<ipython-input-4-41d2e75f5c15>, line 4)",
     "output_type": "error",
     "traceback": [
      "\u001b[1;36m  File \u001b[1;32m\"<ipython-input-4-41d2e75f5c15>\"\u001b[1;36m, line \u001b[1;32m4\u001b[0m\n\u001b[1;33m    except ValueError, Argument:\u001b[0m\n\u001b[1;37m                     ^\u001b[0m\n\u001b[1;31mSyntaxError\u001b[0m\u001b[1;31m:\u001b[0m invalid syntax\n"
     ]
    }
   ],
   "source": [
    "def temp_convert(var):\n",
    "   try:\n",
    "      return int(var)\n",
    "   except ValueError, Argument:\n",
    "      print (\"The argument does not contain numbers\\n\", Argument)\n",
    "\n",
    "temp_convert(\"xyz\");"
   ]
  },
  {
   "cell_type": "markdown",
   "id": "6d707546",
   "metadata": {},
   "source": [
    "# Topic: Advance python class,object,attributes,inheritance,overloading\n",
    "\n",
    "\n",
    "# Assignment Level Basic"
   ]
  },
  {
   "cell_type": "markdown",
   "id": "4afcdbe2",
   "metadata": {},
   "source": [
    "# B1:-what are oops concepts?is multiple inheritance supported in java"
   ]
  },
  {
   "cell_type": "markdown",
   "id": "c393f7d3",
   "metadata": {},
   "source": [
    "### Object oriented programming is a technique or style which is associated with a object and class.\n",
    "\n",
    "### As we have explained in the inheritance chapter, multiple inheritance is not supported in the case of class because of ambiguity.\n",
    "\n",
    "### However, it is supported in case of an interface because there is no ambiguity.\n",
    "\n",
    "### It is because its implementation is provided by the implementation class."
   ]
  },
  {
   "cell_type": "markdown",
   "id": "940969b0",
   "metadata": {},
   "source": [
    "# B2:How To Define a Class in Python?What Is Self?Give An Example Of A Python Class."
   ]
  },
  {
   "cell_type": "code",
   "execution_count": 5,
   "id": "23d8cd12",
   "metadata": {},
   "outputs": [
    {
     "name": "stdout",
     "output_type": "stream",
     "text": [
      "name is vasuli\n"
     ]
    }
   ],
   "source": [
    "class Person:\n",
    "    def hello(self,name):\n",
    "        self.name=name\n",
    "        print(\"name is\",self.name)\n",
    "obj=Person()\n",
    "obj.hello(\"vasuli\")"
   ]
  },
  {
   "cell_type": "markdown",
   "id": "80dab5b1",
   "metadata": {},
   "source": [
    "# B3.. Write a Python class named Rectangle constructed by a length and width and a method which will compute the area of a rectangle"
   ]
  },
  {
   "cell_type": "code",
   "execution_count": 6,
   "id": "013f3a72",
   "metadata": {},
   "outputs": [
    {
     "name": "stdout",
     "output_type": "stream",
     "text": [
      "area of Rectangle is  525\n"
     ]
    }
   ],
   "source": [
    "class Rectangle:\n",
    "    def area(self,x,y):\n",
    "        print(\"area of Rectangle is \",x*y)\n",
    "obj=Rectangle()\n",
    "obj.area(15,35)"
   ]
  },
  {
   "cell_type": "markdown",
   "id": "a3e934f9",
   "metadata": {},
   "source": [
    "# B4.Write a Python class named Circle constructed by a radius and two methods which will compute the area and the perimeter of a circle"
   ]
  },
  {
   "cell_type": "code",
   "execution_count": 7,
   "id": "4b51cb9a",
   "metadata": {},
   "outputs": [
    {
     "name": "stdout",
     "output_type": "stream",
     "text": [
      "The Area of Circle is 1519.76\n",
      "\n",
      "The Perimeter of a Circle is 138.16\n"
     ]
    }
   ],
   "source": [
    "class circle:\n",
    "    def redi(self,r):\n",
    "        print(\"The Area of Circle is\",3.14*r*r)\n",
    "        print(\"\\nThe Perimeter of a Circle is\",2*3.14*r)\n",
    "obj2=circle()\n",
    "obj2.redi(22)"
   ]
  },
  {
   "cell_type": "markdown",
   "id": "80ee17eb",
   "metadata": {},
   "source": [
    "# B5 as a B4"
   ]
  },
  {
   "cell_type": "markdown",
   "id": "9a382fb3",
   "metadata": {},
   "source": [
    "# B6.Explain Inheritance in Python with an example.?What Is init ? Or What Is A Constructor In Python?"
   ]
  },
  {
   "cell_type": "markdown",
   "id": "687ff25c",
   "metadata": {},
   "source": [
    "## Inheritance - It's allow to transmit data members from one class to another class."
   ]
  },
  {
   "cell_type": "code",
   "execution_count": 8,
   "id": "371b6044",
   "metadata": {},
   "outputs": [
    {
     "name": "stdout",
     "output_type": "stream",
     "text": [
      "class a\n",
      "class b\n"
     ]
    }
   ],
   "source": [
    "class A:\n",
    "  print(\"class a\")\n",
    "class B(A):\n",
    "  print(\"class b\")\n",
    "obj = B()"
   ]
  },
  {
   "cell_type": "markdown",
   "id": "ad98ac69",
   "metadata": {},
   "source": [
    "# B7. What is Instantiation in terms of OOP terminology?"
   ]
  },
  {
   "cell_type": "markdown",
   "id": "a314efdf",
   "metadata": {},
   "source": [
    "### In computer science, instantiation is the realization of a predefined object.\n",
    "\n",
    "### In OOP (object-oriented programming), a class of object may be defined.\n",
    "\n",
    "###  An instance of that object may then be declared, giving it a unique, named identity so that it may be used in the program.\n",
    "\n",
    "### "
   ]
  },
  {
   "cell_type": "markdown",
   "id": "3c0f8682",
   "metadata": {},
   "source": [
    "# B8What is used To check whether an object o is an instance of class A?"
   ]
  },
  {
   "cell_type": "code",
   "execution_count": 1,
   "id": "d6cee97c",
   "metadata": {},
   "outputs": [
    {
     "name": "stdout",
     "output_type": "stream",
     "text": [
      "True\n"
     ]
    }
   ],
   "source": [
    "class A:\n",
    "    name='sarang'\n",
    "y=A()\n",
    "x=isinstance(y,A)\n",
    "print(x)"
   ]
  },
  {
   "cell_type": "markdown",
   "id": "5caf4685",
   "metadata": {},
   "source": [
    "# B9.What relationship is appropriate for Course and Faculty?"
   ]
  },
  {
   "cell_type": "markdown",
   "id": "db47f8ed",
   "metadata": {},
   "source": [
    "## Object oriented programming generally support 4 types of relationships that are.\n",
    "\n",
    "##    inheritance , association, composition and aggregation.\n",
    "\n",
    "##    All these relationship is based on \"is a\" relationship, \"has-a\" relationship and \"part-of\" relationship.\n",
    "\n",
    "## Inheritance is “IS-A” type of relationship. “IS-A” relationship is a totally based on Inheritance, which can be of two types Class Inheritance or Interface Inheritance. Inheritance is a parent-child relationship where we create a new class by using existing class code. It is just like saying that “A is type of B”. For example is “Apple is a fruit”, “Ferrari is a car”."
   ]
  },
  {
   "cell_type": "markdown",
   "id": "c6025d97",
   "metadata": {},
   "source": [
    "# B10.What relationship is appropriate for Student and Person?"
   ]
  },
  {
   "cell_type": "markdown",
   "id": "4b8250e9",
   "metadata": {},
   "source": [
    "## Inheritance is “IS-A” type of relationship. \n",
    "## “IS-A” relationship is a totally based on Inheritance, which can be of two types Class Inheritance or Interface Inheritance. \n",
    "## Inheritance is a parent-child relationship where we create a new class by using existing class code.\n",
    "## It is just like saying that “A is type of B”. For example is “Apple is a fruit”, “Ferrari is a car”."
   ]
  },
  {
   "cell_type": "markdown",
   "id": "a8fccd30",
   "metadata": {},
   "source": [
    "# Assignment Level Intermediate"
   ]
  },
  {
   "cell_type": "markdown",
   "id": "352184d1",
   "metadata": {},
   "source": [
    "# I1.Which function overloads the + operator?Which operator is overloaded by invert ()?"
   ]
  },
  {
   "cell_type": "markdown",
   "id": "b54ac527",
   "metadata": {},
   "source": [
    "### In Python, overloading is achieved by overriding the method which is specifically for that operator, in the user-defined class.\n",
    "\n",
    "### For example, __add__(self, x) is a method reserved for overloading + operator, and __eq__(self, x) is for overloading == .\n",
    "\n",
    "### It is achievable because ‘+’ operator is overloaded by int class and str class.\n",
    "\n",
    "### You might have noticed that the same built-in operator or function shows different behavior for objects of different classes, \n",
    "\n",
    "### this is called Operator Overloading. "
   ]
  },
  {
   "cell_type": "markdown",
   "id": "89d55540",
   "metadata": {},
   "source": [
    "# I2.Which function overloads the >> operator?"
   ]
  },
  {
   "cell_type": "markdown",
   "id": "962e6a6e",
   "metadata": {},
   "source": [
    "### In Python, overloading is achieved by overriding the method which is specifically for that operator, in the user-defined class. For example, __add__(self, x) is a method reserved for overloading + operator, and __eq__(self, x) is for overloading == ."
   ]
  },
  {
   "cell_type": "markdown",
   "id": "db31fbef",
   "metadata": {},
   "source": [
    "# I3.Create a class called Numbers, which has a single class attribute called MULTIPLIER, and a constructor which takes the parameters x and y"
   ]
  },
  {
   "cell_type": "markdown",
   "id": "0af0db89",
   "metadata": {},
   "source": [
    "# Assignment Level Advance"
   ]
  },
  {
   "cell_type": "markdown",
   "id": "90848acf",
   "metadata": {},
   "source": [
    "# A1.Write a Python class to implement pow(x, n)."
   ]
  },
  {
   "cell_type": "code",
   "execution_count": 2,
   "id": "69480498",
   "metadata": {},
   "outputs": [
    {
     "name": "stdout",
     "output_type": "stream",
     "text": [
      "8\n"
     ]
    }
   ],
   "source": [
    "def power(x, y):\n",
    " \n",
    "    if (y == 0): return 1\n",
    "    elif (int(y % 2) == 0):\n",
    "        return (power(x, int(y / 2)) *\n",
    "               power(x, int(y / 2)))\n",
    "    else:\n",
    "        return (x * power(x, int(y / 2)) *\n",
    "                   power(x, int(y / 2)))\n",
    "\n",
    "x = 2; y = 3\n",
    "print(power(x, y))"
   ]
  },
  {
   "cell_type": "markdown",
   "id": "2c036e25",
   "metadata": {},
   "source": [
    "# [Regular Expression Assignment\n",
    "\n",
    "\n",
    "# Topic: Regular Expression Match,serach,matching vs searching,modifiers"
   ]
  },
  {
   "cell_type": "markdown",
   "id": "b5a48ede",
   "metadata": {},
   "source": [
    "# Assignment Level Basic"
   ]
  },
  {
   "cell_type": "markdown",
   "id": "016234c8",
   "metadata": {},
   "source": [
    "# B1.Does Python support strongly for regular expressions?"
   ]
  },
  {
   "cell_type": "markdown",
   "id": "80e2ee7b",
   "metadata": {},
   "source": [
    "### A regular expression in a programming language is a special text string used for describing a search pattern. \n",
    "\n",
    "### It is extremely useful for extracting information from text such as code, files, log, spreadsheets or even documents."
   ]
  },
  {
   "cell_type": "markdown",
   "id": "88f16a59",
   "metadata": {},
   "source": [
    "# B2.Write a Python program that matches a string that has an a followed by zero or more b's"
   ]
  },
  {
   "cell_type": "code",
   "execution_count": 7,
   "id": "7e7cdae2",
   "metadata": {},
   "outputs": [
    {
     "name": "stdout",
     "output_type": "stream",
     "text": [
      "Found a match!\n",
      "Found a match!\n",
      "Not matched!\n"
     ]
    }
   ],
   "source": [
    "import re\n",
    "def text_match(text):\n",
    "        patterns = 'ab*?'\n",
    "        if re.search(patterns,  text):\n",
    "                return 'Found a match!'\n",
    "        else:\n",
    "                return('Not matched!')\n",
    "\n",
    "print(text_match(\"ac\"))\n",
    "print(text_match(\"abc\"))\n",
    "print(text_match(\"d\"))"
   ]
  },
  {
   "cell_type": "markdown",
   "id": "d919cb03",
   "metadata": {},
   "source": [
    "# B3.Write a Python program to check that a string contains only a certain set of characters  (in this case a-z, A-Z and 0-9)"
   ]
  },
  {
   "cell_type": "code",
   "execution_count": 11,
   "id": "0730fec3",
   "metadata": {},
   "outputs": [
    {
     "name": "stdout",
     "output_type": "stream",
     "text": [
      "['h', 'e', 'l', 'l', 'o', 'i', 'a', 'm', 's', 'a', 'r', 'a', 'n', 'g', 't', 'r', 'i', 'v', 'e', 'd', 'i', '1', '2', '3', '4', '5', '6', '7', '8', '9']\n"
     ]
    }
   ],
   "source": [
    "str=\"\"\" hello i am sarang trivedi \n",
    "            123456789\"\"\"\n",
    "sar=re.findall(\"[a-zA-Z0-9]\",str)\n",
    "print(sar)"
   ]
  },
  {
   "cell_type": "markdown",
   "id": "76bb8f6e",
   "metadata": {},
   "source": [
    "# B4. Write a Python program where a string will start with a specific number."
   ]
  },
  {
   "cell_type": "code",
   "execution_count": 13,
   "id": "79068871",
   "metadata": {},
   "outputs": [
    {
     "name": "stdout",
     "output_type": "stream",
     "text": [
      "False\n",
      "True\n"
     ]
    }
   ],
   "source": [
    "import re\n",
    "def specific_num(string):\n",
    "    text = re.compile(r\"^5\")\n",
    "    if text.match(string):\n",
    "        return True\n",
    "    else:\n",
    "        return False\n",
    "print(specific_num('7-234598762'))\n",
    "print(specific_num('5-234598761'))"
   ]
  },
  {
   "cell_type": "markdown",
   "id": "913954b6",
   "metadata": {},
   "source": [
    "# B5.Write a Python program to check for a number at the end of a string"
   ]
  },
  {
   "cell_type": "code",
   "execution_count": 14,
   "id": "a4f5ccdf",
   "metadata": {},
   "outputs": [
    {
     "name": "stdout",
     "output_type": "stream",
     "text": [
      "False\n",
      "False\n"
     ]
    }
   ],
   "source": [
    "import re\n",
    "def end_num(string):\n",
    "    text = re.compile(r\"[0-9]$\")\n",
    "    if text.match(string):\n",
    "        return True\n",
    "    else:\n",
    "        return False\n",
    "print(end_num('7-234598762'))\n",
    "print(end_num('5-234598761'))"
   ]
  },
  {
   "cell_type": "markdown",
   "id": "40864a1a",
   "metadata": {},
   "source": [
    "# Assignment Level Intermediate"
   ]
  },
  {
   "cell_type": "markdown",
   "id": "47c66e0d",
   "metadata": {},
   "source": [
    "# I1.Write a Python program to find sequences of lowercase letters joined with a underscore."
   ]
  },
  {
   "cell_type": "markdown",
   "id": "c5213e38",
   "metadata": {},
   "source": [
    "import re\n",
    "def text_match(text):\n",
    "        patterns = '^[a-z]+_[a-z]+$'\n",
    "        if re.search(patterns,  text):\n",
    "                return 'Found a match!'\n",
    "        else:\n",
    "                return('Not matched!')\n",
    "\n",
    "print(text_match(\"aab_sarang\"))\n",
    "print(text_match(\"aab_trivedi\"))\n",
    "print(text_match(\"Aaab_Sarang\"))"
   ]
  },
  {
   "cell_type": "markdown",
   "id": "ecb31c9f",
   "metadata": {},
   "source": [
    "# I2.. Write a Python program that matches a word containing 'z', not start or end of the word."
   ]
  },
  {
   "cell_type": "code",
   "execution_count": 3,
   "id": "beadac93",
   "metadata": {},
   "outputs": [
    {
     "name": "stdout",
     "output_type": "stream",
     "text": [
      "Not matched!\n",
      "Not matched!\n"
     ]
    }
   ],
   "source": [
    "import re\n",
    "def text_match(text):\n",
    "        patterns = '\\Bz\\B'\n",
    "        if re.search(patterns,  text):\n",
    "                return 'Found a match!'\n",
    "        else:\n",
    "                return('Not matched!')\n",
    "\n",
    "print(text_match(\"The laptop are so smooth bro...\"))\n",
    "print(text_match(\"Sarang Trivedi.\"))\n"
   ]
  },
  {
   "cell_type": "markdown",
   "id": "4f52a5be",
   "metadata": {},
   "source": [
    "# I3. Write a Python program to separate and print the numbers and their position of a given string"
   ]
  },
  {
   "cell_type": "code",
   "execution_count": 4,
   "id": "6ea3ec0a",
   "metadata": {},
   "outputs": [
    {
     "name": "stdout",
     "output_type": "stream",
     "text": [
      "50\n",
      "Index position: 62\n"
     ]
    }
   ],
   "source": [
    "import re\n",
    "\n",
    "text = \"The following example creates an ArrayList with a capacity of 50 elements. Four elements are then added to the ArrayList and the ArrayList is trimmed accordingly.\"\n",
    "\n",
    "for m in re.finditer(\"\\d+\", text):\n",
    "    print(m.group(0))\n",
    "    print(\"Index position:\", m.start())"
   ]
  },
  {
   "cell_type": "markdown",
   "id": "df3c0313",
   "metadata": {},
   "source": [
    "# I4. Write a Python program to replace all occurrences of space, comma, or dot with a colon."
   ]
  },
  {
   "cell_type": "code",
   "execution_count": 5,
   "id": "44412225",
   "metadata": {},
   "outputs": [
    {
     "name": "stdout",
     "output_type": "stream",
     "text": [
      "Python:Exercises::module-4:exercises:\n"
     ]
    }
   ],
   "source": [
    "import re\n",
    "text = 'Python Exercises, module-4 exercises.'\n",
    "print(re.sub(\"[ ,.]\", \":\", text))"
   ]
  },
  {
   "cell_type": "markdown",
   "id": "786e497b",
   "metadata": {},
   "source": [
    "# I5.Write a Python program to remove all whitespaces from a string"
   ]
  },
  {
   "cell_type": "code",
   "execution_count": 6,
   "id": "c6a76ce0",
   "metadata": {},
   "outputs": [
    {
     "name": "stdout",
     "output_type": "stream",
     "text": [
      "White spaces: sarangtrivedi\n"
     ]
    }
   ],
   "source": [
    "import re\n",
    "text1 = ' sarang    trivedi '\n",
    "print(\"White spaces:\",re.sub(r'\\s+', '',text1))"
   ]
  },
  {
   "cell_type": "markdown",
   "id": "9bfb863e",
   "metadata": {},
   "source": [
    "# I6. Write a Python program to remove everything except alphanumeric characters from a string"
   ]
  },
  {
   "cell_type": "code",
   "execution_count": 8,
   "id": "4b3e0ab6",
   "metadata": {},
   "outputs": [
    {
     "name": "stdout",
     "output_type": "stream",
     "text": [
      "WelcomeHome18\n"
     ]
    }
   ],
   "source": [
    "import re\n",
    "text1 = '**//Welcome  Home// - 18. '\n",
    "pattern = re.compile('[\\W_]+')\n",
    "print(pattern.sub('', text1))"
   ]
  },
  {
   "cell_type": "markdown",
   "id": "4d9b7851",
   "metadata": {},
   "source": [
    "# Assignment Level Advance"
   ]
  },
  {
   "cell_type": "markdown",
   "id": "a0901ec2",
   "metadata": {},
   "source": [
    "# A1.Write a Python program to remove multiple spaces in a string."
   ]
  },
  {
   "cell_type": "code",
   "execution_count": 10,
   "id": "2ed70516",
   "metadata": {},
   "outputs": [
    {
     "name": "stdout",
     "output_type": "stream",
     "text": [
      "White spaces: sarang trivedi \n"
     ]
    }
   ],
   "source": [
    "import re\n",
    "t1 = 'sarang             trivedi '\n",
    "print(\"White spaces:\",re.sub(' +',' ',t1))"
   ]
  },
  {
   "cell_type": "markdown",
   "id": "9b185588",
   "metadata": {},
   "source": [
    "# A2. Write a Python program to insert spaces between words starting with capital letters"
   ]
  },
  {
   "cell_type": "code",
   "execution_count": 11,
   "id": "36eeda2c",
   "metadata": {},
   "outputs": [
    {
     "name": "stdout",
     "output_type": "stream",
     "text": [
      "Sarang\n",
      "Sarang Trivedi\n",
      "Sarang Trivedi Tops Student\n"
     ]
    }
   ],
   "source": [
    "import re\n",
    "def capital_words_spaces(str1):\n",
    "  return re.sub(r\"(\\w)([A-Z])\", r\"\\1 \\2\", str1)\n",
    "\n",
    "print(capital_words_spaces(\"Sarang\"))\n",
    "print(capital_words_spaces(\"SarangTrivedi\"))\n",
    "print(capital_words_spaces(\"SarangTrivediTopsStudent\"))"
   ]
  },
  {
   "cell_type": "markdown",
   "id": "d44d9832",
   "metadata": {},
   "source": [
    "# A3.Write a Python program to remove words from a string of length between 1 and a given number"
   ]
  },
  {
   "cell_type": "code",
   "execution_count": 12,
   "id": "434701e9",
   "metadata": {},
   "outputs": [
    {
     "name": "stdout",
     "output_type": "stream",
     "text": [
      " laptop smooth.\n"
     ]
    }
   ],
   "source": [
    "import re\n",
    "text = \"The hp laptop are so smooth.\"\n",
    "shortword = re.compile(r'\\W*\\b\\w{1,3}\\b')\n",
    "print(shortword.sub('', text))"
   ]
  },
  {
   "cell_type": "markdown",
   "id": "ab7dd619",
   "metadata": {},
   "source": [
    "# A4. Write a Python program to find all words which are at least 4 characters long in a string"
   ]
  },
  {
   "cell_type": "code",
   "execution_count": 13,
   "id": "0024a079",
   "metadata": {},
   "outputs": [
    {
     "name": "stdout",
     "output_type": "stream",
     "text": [
      "['python', 'easy', 'learn']\n"
     ]
    }
   ],
   "source": [
    "import re\n",
    "text = 'The python is so easy to learn.'\n",
    "print(re.findall(r\"\\b\\w{4,}\\b\", text))"
   ]
  },
  {
   "cell_type": "markdown",
   "id": "aec4d6ce",
   "metadata": {},
   "source": [
    "# TOPIC: GUI Programming tkinter programming and widgets"
   ]
  },
  {
   "cell_type": "markdown",
   "id": "60bce084",
   "metadata": {},
   "source": [
    "# Assignment Level Basic"
   ]
  },
  {
   "cell_type": "markdown",
   "id": "b4b8a24d",
   "metadata": {},
   "source": [
    "# B1.how tkinter used in python?"
   ]
  },
  {
   "cell_type": "code",
   "execution_count": 14,
   "id": "980910e2",
   "metadata": {},
   "outputs": [],
   "source": [
    "from tkinter import *\n",
    "from tkinter import ttk\n",
    "\n",
    "\n",
    "window = Tk()\n",
    "window.geometry(\"450x300\")\n",
    "window.title('My first app')\n",
    "window.resizable(True, False)\n",
    "window.mainloop()"
   ]
  },
  {
   "cell_type": "markdown",
   "id": "b79b1c50",
   "metadata": {},
   "source": [
    "# B2/.How do you create a window and frame?"
   ]
  },
  {
   "cell_type": "code",
   "execution_count": 16,
   "id": "4ea4c783",
   "metadata": {},
   "outputs": [],
   "source": [
    "from tkinter import *\n",
    "from PIL import Image,ImageTk\n",
    "\n",
    "sarang=Tk()\n",
    "sarang.geometry(\"500x600\")\n",
    "\n",
    "f1=Frame(sarang,bg=\"blue\",borderwidth=6,relief=SUNKEN)\n",
    "f1.pack(side=LEFT,fill=\"y\")\n",
    "\n",
    "l=Label(f1,text=\"projet tkinter python\")\n",
    "l.pack(pady=12)\n",
    "\n",
    "\n",
    "\n",
    "f2=Frame(sarang,bg=\"blue\",borderwidth=6)\n",
    "f2.pack(side=TOP,fill=\"x\")\n",
    "\n",
    "l2=Label(f2,text=\"Welcome  in Home\")\n",
    "l2.pack()\n",
    "sarang.mainloop()"
   ]
  },
  {
   "cell_type": "markdown",
   "id": "194e6686",
   "metadata": {},
   "source": [
    "# B3.How do you create an event loop?"
   ]
  },
  {
   "cell_type": "code",
   "execution_count": null,
   "id": "70f4e739",
   "metadata": {},
   "outputs": [
    {
     "name": "stdout",
     "output_type": "stream",
     "text": [
      "you clicked on the button at77,23\n",
      "you clicked on the button at77,23\n"
     ]
    }
   ],
   "source": [
    "from tkinter import *\n",
    "\n",
    "def harry(event):\n",
    "    print(f\"you clicked on the button at{event.x},{event.y}\")\n",
    "    \n",
    "sarang=Tk()\n",
    "sarang.title(\"Events in tkinter\")\n",
    "sarang.geometry(\"644x334\")\n",
    "\n",
    "widget=Button(sarang,text=\"click me please\")\n",
    "widget.pack()\n",
    "\n",
    "widget.bind('<Button-1>',harry)\n",
    "widget.bind('<Double-1>',quit)\n",
    "\n",
    "sarang.mainloop()"
   ]
  },
  {
   "cell_type": "markdown",
   "id": "99f6861b",
   "metadata": {},
   "source": [
    "# B4.what is used To create a label under parent window?"
   ]
  },
  {
   "cell_type": "code",
   "execution_count": 18,
   "id": "2e341344",
   "metadata": {},
   "outputs": [],
   "source": [
    "from tkinter import *\n",
    "\n",
    "\n",
    "sarang=Tk()\n",
    "sarang.geometry(\"400x500\")\n",
    "\n",
    "l=Label(sarang,text=\"projet python\")\n",
    "l.pack(pady=12)\n",
    "\n",
    "sarang.mainloop()"
   ]
  },
  {
   "cell_type": "markdown",
   "id": "9543b42f",
   "metadata": {},
   "source": [
    "# B5.what is used To create a button under parent window with command processButton?"
   ]
  },
  {
   "cell_type": "code",
   "execution_count": 19,
   "id": "fb676fc6",
   "metadata": {},
   "outputs": [
    {
     "name": "stdout",
     "output_type": "stream",
     "text": [
      "Hello\n",
      "Hello\n",
      "Hello\n"
     ]
    }
   ],
   "source": [
    "from tkinter import *\n",
    "\n",
    "def processButton():\n",
    "    print(\"Hello\")\n",
    "    \n",
    "sarang=Tk()\n",
    "sarang.title(\"Events in tkinter\")\n",
    "sarang.geometry(\"644x334\")\n",
    "\n",
    "b1=Button(sarang,text=\"click Here\",command=processButton)\n",
    "b1.pack()\n",
    "\n",
    "sarang.mainloop()"
   ]
  },
  {
   "cell_type": "markdown",
   "id": "e065e142",
   "metadata": {},
   "source": [
    "# B6.How do you create a GUI component for displaying multiple-lines of text?"
   ]
  },
  {
   "cell_type": "code",
   "execution_count": 23,
   "id": "0df7a877",
   "metadata": {},
   "outputs": [
    {
     "name": "stdout",
     "output_type": "stream",
     "text": [
      "successfully\n",
      "hello\n",
      "successfully\n"
     ]
    }
   ],
   "source": [
    "from tkinter import *\n",
    "\n",
    "sarang=Tk()\n",
    "sarang.geometry(\"400x500\")\n",
    "\n",
    "\n",
    "def hello():\n",
    "    print(\"hello\")\n",
    "    \n",
    "def successfully():\n",
    "    print(\"successfully\")\n",
    "    \n",
    "f1=Frame(sarang,borderwidth=6,bg=\"grey\",relief=SUNKEN)\n",
    "f1.pack(side=LEFT,anchor=\"nw\")\n",
    "\n",
    "b1=Button(f1,fg=\"red\",text=\"print Now\" ,command=hello)\n",
    "b1.pack(side=LEFT,padx=23)\n",
    "\n",
    "b2=Button(f1,fg=\"red\",text=\"Print Now1\" ,command=successfully)\n",
    "b2.pack(side=LEFT,padx=23)\n",
    "\n",
    "sarang.mainloop()"
   ]
  },
  {
   "cell_type": "markdown",
   "id": "337bd176",
   "metadata": {},
   "source": [
    "# B7.How do you draw a rectangle centered at 100, 100 with width 100 and height 100 on canvas?"
   ]
  },
  {
   "cell_type": "code",
   "execution_count": 26,
   "id": "8353e68b",
   "metadata": {},
   "outputs": [],
   "source": [
    "from tkinter import *\n",
    "\n",
    "sarang=Tk()\n",
    "canvas_width=100\n",
    "canvas_height=100\n",
    "\n",
    "sarang.geometry(f\"{canvas_width}x{canvas_height}\")\n",
    "sarang.title(\"welcome in..\")\n",
    "can_widget=Canvas(sarang,width=canvas_width,height=canvas_height)\n",
    "can_widget.pack()\n",
    "\n",
    "can_widget.create_rectangle(3,5,700,300,fill=\"yellow\")\n",
    "\n",
    "sarang.mainloop()"
   ]
  },
  {
   "cell_type": "markdown",
   "id": "11c951cd",
   "metadata": {},
   "source": [
    "# B8.How do you draw a red line from 100, 100 to 400, 500?"
   ]
  },
  {
   "cell_type": "code",
   "execution_count": 28,
   "id": "15e49cc0",
   "metadata": {},
   "outputs": [],
   "source": [
    "from tkinter import *\n",
    "\n",
    "sarang=Tk()\n",
    "canvas_width=800\n",
    "canvas_height=400\n",
    "sarang.geometry(f\"{canvas_width}x{canvas_height}\")\n",
    "sarang.title(\"welcome in..\")\n",
    "can_widget=Canvas(sarang,width=canvas_width,height=canvas_height)\n",
    "can_widget.pack()\n",
    "can_widget.create_line(100,100,400,500,fill=\"yellow\")\n",
    "\n",
    "sarang.mainloop()"
   ]
  },
  {
   "cell_type": "markdown",
   "id": "073bb4b1",
   "metadata": {},
   "source": [
    "# Assignment Level Intermediate"
   ]
  },
  {
   "cell_type": "markdown",
   "id": "6fb11dd8",
   "metadata": {},
   "source": [
    "# I1.Assume v1 = IntVar(), how do you set a new value 5 to v1."
   ]
  },
  {
   "cell_type": "code",
   "execution_count": null,
   "id": "461822ce",
   "metadata": {},
   "outputs": [],
   "source": []
  },
  {
   "cell_type": "markdown",
   "id": "176ab6cf",
   "metadata": {},
   "source": [
    "# I2.what is used To add a menubar?"
   ]
  },
  {
   "cell_type": "code",
   "execution_count": 30,
   "id": "8e75c48b",
   "metadata": {},
   "outputs": [],
   "source": [
    "from tkinter import *\n",
    "root=Tk()\n",
    "root.geometry(\"733x566\")\n",
    "root.title(\"pycham\")\n",
    "\n",
    "def myfunc():\n",
    "    print(\"hello welcome in python\")\n",
    "mymenu = Menu(root)\n",
    "mymenu.add_command(label=\"file\",command=myfunc)\n",
    "mymenu.add_command(label=\"Exit\",command=quit)\n",
    "root.config(menu=mymenu)\n",
    "\n",
    "root.mainloop()"
   ]
  },
  {
   "cell_type": "markdown",
   "id": "1d6f8f2f",
   "metadata": {},
   "source": [
    "# I3.what is used to display a popup menu?"
   ]
  },
  {
   "cell_type": "code",
   "execution_count": 32,
   "id": "90df3521",
   "metadata": {},
   "outputs": [],
   "source": [
    "from tkinter import *\n",
    "root=Tk()\n",
    "root.geometry(\"733x566\")\n",
    "root.title(\"pycham\")\n",
    "\n",
    "def myfunc():\n",
    "    print(\"hello welcome in pycham\")\n",
    "    \n",
    "\n",
    "mainmenu=Menu(root)\n",
    "# for sub menus in mainmenu:\n",
    "m1=Menu(mainmenu,tearoff=0)\n",
    "m1.add_command(label=\"new project\",command=myfunc)\n",
    "m1.add_command(label=\"save\",command=myfunc)\n",
    "m1.add_separator()\n",
    "m1.add_command(label=\"save as\",command=myfunc)\n",
    "m1.add_command(label=\"print\",command=myfunc)\n",
    "root.config(menu=mainmenu)\n",
    "mainmenu.add_cascade(label=\"File\",menu=m1)\n",
    "\n",
    "\n",
    "root.mainloop()"
   ]
  },
  {
   "cell_type": "markdown",
   "id": "c4536d3e",
   "metadata": {},
   "source": [
    "# I4.what are property The mouse event object has ?"
   ]
  },
  {
   "cell_type": "code",
   "execution_count": 33,
   "id": "4df79661",
   "metadata": {},
   "outputs": [
    {
     "name": "stdout",
     "output_type": "stream",
     "text": [
      "you clicked on the button at81,23\n"
     ]
    }
   ],
   "source": [
    "from tkinter import *\n",
    "\n",
    "def harry(event):\n",
    "    print(f\"you clicked on the button at{event.x},{event.y}\")\n",
    "    \n",
    "sarang=Tk()\n",
    "sarang.title(\"Events in tkinter\")\n",
    "sarang.geometry(\"744x434\")\n",
    "\n",
    "widget=Button(sarang,text=\"click me please\")\n",
    "widget.pack()\n",
    "\n",
    "widget.bind('<Button-1>',harry)\n",
    "widget.bind('<Double-1>',quit)\n",
    "\n",
    "sarang.mainloop()"
   ]
  },
  {
   "cell_type": "code",
   "execution_count": null,
   "id": "4b15efd4",
   "metadata": {},
   "outputs": [],
   "source": []
  }
 ],
 "metadata": {
  "kernelspec": {
   "display_name": "Python 3",
   "language": "python",
   "name": "python3"
  },
  "language_info": {
   "codemirror_mode": {
    "name": "ipython",
    "version": 3
   },
   "file_extension": ".py",
   "mimetype": "text/x-python",
   "name": "python",
   "nbconvert_exporter": "python",
   "pygments_lexer": "ipython3",
   "version": "3.8.8"
  }
 },
 "nbformat": 4,
 "nbformat_minor": 5
}
